{
 "cells": [
  {
   "cell_type": "code",
   "execution_count": 1,
   "id": "08f77aa9",
   "metadata": {},
   "outputs": [],
   "source": [
    "from textblob import TextBlob"
   ]
  },
  {
   "cell_type": "code",
   "execution_count": 4,
   "id": "d6b70e22",
   "metadata": {},
   "outputs": [
    {
     "name": "stdout",
     "output_type": "stream",
     "text": [
      "Enter a text string: I really really like the song Love Story by Taylor Swift\n",
      "The sentiment of the text is: Positive\n"
     ]
    }
   ],
   "source": [
    "def analyze_sentiment(text):\n",
    "    # Create a TextBlob object\n",
    "    blob = TextBlob(text)\n",
    "    \n",
    "    # Get the polarity score (-1 to 1) and subjectivity score (0 to 1)\n",
    "    polarity = blob.sentiment.polarity\n",
    "    \n",
    "    # Determine the sentiment based on polarity score\n",
    "    if polarity > 0:\n",
    "        sentiment = \"Positive\"\n",
    "    elif polarity < 0:\n",
    "        sentiment = \"Negative\"\n",
    "    else:\n",
    "        sentiment = \"Neutral\"\n",
    "    \n",
    "    return sentiment\n",
    "\n",
    "# Take user input\n",
    "text_input = input(\"Enter a text string: \")\n",
    "\n",
    "# Analyze sentiment and output the result\n",
    "sentiment = analyze_sentiment(text_input)\n",
    "print(f\"The sentiment of the text is: {sentiment}\")"
   ]
  }
 ],
 "metadata": {
  "kernelspec": {
   "display_name": "Python 3 (ipykernel)",
   "language": "python",
   "name": "python3"
  },
  "language_info": {
   "codemirror_mode": {
    "name": "ipython",
    "version": 3
   },
   "file_extension": ".py",
   "mimetype": "text/x-python",
   "name": "python",
   "nbconvert_exporter": "python",
   "pygments_lexer": "ipython3",
   "version": "3.9.7"
  }
 },
 "nbformat": 4,
 "nbformat_minor": 5
}
